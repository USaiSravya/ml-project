{
 "cells": [
  {
   "cell_type": "code",
   "execution_count": 36,
   "metadata": {},
   "outputs": [],
   "source": [
    "import pandas as pd \n",
    "data=pd.read_csv('crop.csv')"
   ]
  },
  {
   "cell_type": "code",
   "execution_count": 37,
   "metadata": {},
   "outputs": [
    {
     "data": {
      "text/html": [
       "<div>\n",
       "<style scoped>\n",
       "    .dataframe tbody tr th:only-of-type {\n",
       "        vertical-align: middle;\n",
       "    }\n",
       "\n",
       "    .dataframe tbody tr th {\n",
       "        vertical-align: top;\n",
       "    }\n",
       "\n",
       "    .dataframe thead th {\n",
       "        text-align: right;\n",
       "    }\n",
       "</style>\n",
       "<table border=\"1\" class=\"dataframe\">\n",
       "  <thead>\n",
       "    <tr style=\"text-align: right;\">\n",
       "      <th></th>\n",
       "      <th>N</th>\n",
       "      <th>P</th>\n",
       "      <th>K</th>\n",
       "      <th>temperature</th>\n",
       "      <th>humidity</th>\n",
       "      <th>ph</th>\n",
       "      <th>rainfall</th>\n",
       "      <th>label</th>\n",
       "    </tr>\n",
       "  </thead>\n",
       "  <tbody>\n",
       "    <tr>\n",
       "      <th>0</th>\n",
       "      <td>90</td>\n",
       "      <td>42</td>\n",
       "      <td>43</td>\n",
       "      <td>20.879744</td>\n",
       "      <td>82.002744</td>\n",
       "      <td>6.502985</td>\n",
       "      <td>202.935536</td>\n",
       "      <td>rice</td>\n",
       "    </tr>\n",
       "    <tr>\n",
       "      <th>1</th>\n",
       "      <td>85</td>\n",
       "      <td>58</td>\n",
       "      <td>41</td>\n",
       "      <td>21.770462</td>\n",
       "      <td>80.319644</td>\n",
       "      <td>7.038096</td>\n",
       "      <td>226.655537</td>\n",
       "      <td>rice</td>\n",
       "    </tr>\n",
       "    <tr>\n",
       "      <th>2</th>\n",
       "      <td>60</td>\n",
       "      <td>55</td>\n",
       "      <td>44</td>\n",
       "      <td>23.004459</td>\n",
       "      <td>82.320763</td>\n",
       "      <td>7.840207</td>\n",
       "      <td>263.964248</td>\n",
       "      <td>rice</td>\n",
       "    </tr>\n",
       "    <tr>\n",
       "      <th>3</th>\n",
       "      <td>74</td>\n",
       "      <td>35</td>\n",
       "      <td>40</td>\n",
       "      <td>26.491096</td>\n",
       "      <td>80.158363</td>\n",
       "      <td>6.980401</td>\n",
       "      <td>242.864034</td>\n",
       "      <td>rice</td>\n",
       "    </tr>\n",
       "    <tr>\n",
       "      <th>4</th>\n",
       "      <td>78</td>\n",
       "      <td>42</td>\n",
       "      <td>42</td>\n",
       "      <td>20.130175</td>\n",
       "      <td>81.604873</td>\n",
       "      <td>7.628473</td>\n",
       "      <td>262.717340</td>\n",
       "      <td>rice</td>\n",
       "    </tr>\n",
       "    <tr>\n",
       "      <th>...</th>\n",
       "      <td>...</td>\n",
       "      <td>...</td>\n",
       "      <td>...</td>\n",
       "      <td>...</td>\n",
       "      <td>...</td>\n",
       "      <td>...</td>\n",
       "      <td>...</td>\n",
       "      <td>...</td>\n",
       "    </tr>\n",
       "    <tr>\n",
       "      <th>2195</th>\n",
       "      <td>107</td>\n",
       "      <td>34</td>\n",
       "      <td>32</td>\n",
       "      <td>26.774637</td>\n",
       "      <td>66.413269</td>\n",
       "      <td>6.780064</td>\n",
       "      <td>177.774507</td>\n",
       "      <td>coffee</td>\n",
       "    </tr>\n",
       "    <tr>\n",
       "      <th>2196</th>\n",
       "      <td>99</td>\n",
       "      <td>15</td>\n",
       "      <td>27</td>\n",
       "      <td>27.417112</td>\n",
       "      <td>56.636362</td>\n",
       "      <td>6.086922</td>\n",
       "      <td>127.924610</td>\n",
       "      <td>coffee</td>\n",
       "    </tr>\n",
       "    <tr>\n",
       "      <th>2197</th>\n",
       "      <td>118</td>\n",
       "      <td>33</td>\n",
       "      <td>30</td>\n",
       "      <td>24.131797</td>\n",
       "      <td>67.225123</td>\n",
       "      <td>6.362608</td>\n",
       "      <td>173.322839</td>\n",
       "      <td>coffee</td>\n",
       "    </tr>\n",
       "    <tr>\n",
       "      <th>2198</th>\n",
       "      <td>117</td>\n",
       "      <td>32</td>\n",
       "      <td>34</td>\n",
       "      <td>26.272418</td>\n",
       "      <td>52.127394</td>\n",
       "      <td>6.758793</td>\n",
       "      <td>127.175293</td>\n",
       "      <td>coffee</td>\n",
       "    </tr>\n",
       "    <tr>\n",
       "      <th>2199</th>\n",
       "      <td>104</td>\n",
       "      <td>18</td>\n",
       "      <td>30</td>\n",
       "      <td>23.603016</td>\n",
       "      <td>60.396475</td>\n",
       "      <td>6.779833</td>\n",
       "      <td>140.937041</td>\n",
       "      <td>coffee</td>\n",
       "    </tr>\n",
       "  </tbody>\n",
       "</table>\n",
       "<p>2200 rows × 8 columns</p>\n",
       "</div>"
      ],
      "text/plain": [
       "        N   P   K  temperature   humidity        ph    rainfall   label\n",
       "0      90  42  43    20.879744  82.002744  6.502985  202.935536    rice\n",
       "1      85  58  41    21.770462  80.319644  7.038096  226.655537    rice\n",
       "2      60  55  44    23.004459  82.320763  7.840207  263.964248    rice\n",
       "3      74  35  40    26.491096  80.158363  6.980401  242.864034    rice\n",
       "4      78  42  42    20.130175  81.604873  7.628473  262.717340    rice\n",
       "...   ...  ..  ..          ...        ...       ...         ...     ...\n",
       "2195  107  34  32    26.774637  66.413269  6.780064  177.774507  coffee\n",
       "2196   99  15  27    27.417112  56.636362  6.086922  127.924610  coffee\n",
       "2197  118  33  30    24.131797  67.225123  6.362608  173.322839  coffee\n",
       "2198  117  32  34    26.272418  52.127394  6.758793  127.175293  coffee\n",
       "2199  104  18  30    23.603016  60.396475  6.779833  140.937041  coffee\n",
       "\n",
       "[2200 rows x 8 columns]"
      ]
     },
     "execution_count": 37,
     "metadata": {},
     "output_type": "execute_result"
    }
   ],
   "source": [
    "data"
   ]
  },
  {
   "cell_type": "code",
   "execution_count": 38,
   "metadata": {},
   "outputs": [],
   "source": [
    "x=data.iloc[:,:-1].values\n"
   ]
  },
  {
   "cell_type": "code",
   "execution_count": 39,
   "metadata": {},
   "outputs": [
    {
     "data": {
      "text/plain": [
       "array([[ 90.        ,  42.        ,  43.        , ...,  82.00274423,\n",
       "          6.50298529, 202.9355362 ],\n",
       "       [ 85.        ,  58.        ,  41.        , ...,  80.31964408,\n",
       "          7.03809636, 226.6555374 ],\n",
       "       [ 60.        ,  55.        ,  44.        , ...,  82.3207629 ,\n",
       "          7.84020714, 263.9642476 ],\n",
       "       ...,\n",
       "       [118.        ,  33.        ,  30.        , ...,  67.22512329,\n",
       "          6.36260785, 173.3228386 ],\n",
       "       [117.        ,  32.        ,  34.        , ...,  52.12739421,\n",
       "          6.75879255, 127.1752928 ],\n",
       "       [104.        ,  18.        ,  30.        , ...,  60.39647474,\n",
       "          6.77983261, 140.9370415 ]])"
      ]
     },
     "execution_count": 39,
     "metadata": {},
     "output_type": "execute_result"
    }
   ],
   "source": [
    "x"
   ]
  },
  {
   "cell_type": "code",
   "execution_count": 40,
   "metadata": {},
   "outputs": [],
   "source": [
    "y=data.iloc[:,-1].values\n"
   ]
  },
  {
   "cell_type": "code",
   "execution_count": 41,
   "metadata": {},
   "outputs": [
    {
     "data": {
      "text/plain": [
       "array(['rice', 'rice', 'rice', ..., 'coffee', 'coffee', 'coffee'],\n",
       "      dtype=object)"
      ]
     },
     "execution_count": 41,
     "metadata": {},
     "output_type": "execute_result"
    }
   ],
   "source": [
    "y"
   ]
  },
  {
   "cell_type": "code",
   "execution_count": 42,
   "metadata": {},
   "outputs": [],
   "source": [
    "from sklearn.model_selection import train_test_split\n",
    "x_train,x_test,y_train,y_test=train_test_split(x,y,test_size=0.2)"
   ]
  },
  {
   "cell_type": "code",
   "execution_count": 43,
   "metadata": {},
   "outputs": [
    {
     "data": {
      "text/plain": [
       "(1760, 7)"
      ]
     },
     "execution_count": 43,
     "metadata": {},
     "output_type": "execute_result"
    }
   ],
   "source": [
    "x_train.shape"
   ]
  },
  {
   "cell_type": "code",
   "execution_count": 44,
   "metadata": {},
   "outputs": [
    {
     "data": {
      "text/plain": [
       "(440, 7)"
      ]
     },
     "execution_count": 44,
     "metadata": {},
     "output_type": "execute_result"
    }
   ],
   "source": [
    "x_test.shape"
   ]
  },
  {
   "cell_type": "code",
   "execution_count": 45,
   "metadata": {},
   "outputs": [
    {
     "data": {
      "text/plain": [
       "(1760,)"
      ]
     },
     "execution_count": 45,
     "metadata": {},
     "output_type": "execute_result"
    }
   ],
   "source": [
    "y_train.shape"
   ]
  },
  {
   "cell_type": "code",
   "execution_count": 46,
   "metadata": {},
   "outputs": [
    {
     "data": {
      "text/plain": [
       "(440,)"
      ]
     },
     "execution_count": 46,
     "metadata": {},
     "output_type": "execute_result"
    }
   ],
   "source": [
    "y_test.shape"
   ]
  },
  {
   "cell_type": "code",
   "execution_count": 47,
   "metadata": {},
   "outputs": [
    {
     "data": {
      "text/html": [
       "<style>#sk-container-id-3 {color: black;}#sk-container-id-3 pre{padding: 0;}#sk-container-id-3 div.sk-toggleable {background-color: white;}#sk-container-id-3 label.sk-toggleable__label {cursor: pointer;display: block;width: 100%;margin-bottom: 0;padding: 0.3em;box-sizing: border-box;text-align: center;}#sk-container-id-3 label.sk-toggleable__label-arrow:before {content: \"▸\";float: left;margin-right: 0.25em;color: #696969;}#sk-container-id-3 label.sk-toggleable__label-arrow:hover:before {color: black;}#sk-container-id-3 div.sk-estimator:hover label.sk-toggleable__label-arrow:before {color: black;}#sk-container-id-3 div.sk-toggleable__content {max-height: 0;max-width: 0;overflow: hidden;text-align: left;background-color: #f0f8ff;}#sk-container-id-3 div.sk-toggleable__content pre {margin: 0.2em;color: black;border-radius: 0.25em;background-color: #f0f8ff;}#sk-container-id-3 input.sk-toggleable__control:checked~div.sk-toggleable__content {max-height: 200px;max-width: 100%;overflow: auto;}#sk-container-id-3 input.sk-toggleable__control:checked~label.sk-toggleable__label-arrow:before {content: \"▾\";}#sk-container-id-3 div.sk-estimator input.sk-toggleable__control:checked~label.sk-toggleable__label {background-color: #d4ebff;}#sk-container-id-3 div.sk-label input.sk-toggleable__control:checked~label.sk-toggleable__label {background-color: #d4ebff;}#sk-container-id-3 input.sk-hidden--visually {border: 0;clip: rect(1px 1px 1px 1px);clip: rect(1px, 1px, 1px, 1px);height: 1px;margin: -1px;overflow: hidden;padding: 0;position: absolute;width: 1px;}#sk-container-id-3 div.sk-estimator {font-family: monospace;background-color: #f0f8ff;border: 1px dotted black;border-radius: 0.25em;box-sizing: border-box;margin-bottom: 0.5em;}#sk-container-id-3 div.sk-estimator:hover {background-color: #d4ebff;}#sk-container-id-3 div.sk-parallel-item::after {content: \"\";width: 100%;border-bottom: 1px solid gray;flex-grow: 1;}#sk-container-id-3 div.sk-label:hover label.sk-toggleable__label {background-color: #d4ebff;}#sk-container-id-3 div.sk-serial::before {content: \"\";position: absolute;border-left: 1px solid gray;box-sizing: border-box;top: 0;bottom: 0;left: 50%;z-index: 0;}#sk-container-id-3 div.sk-serial {display: flex;flex-direction: column;align-items: center;background-color: white;padding-right: 0.2em;padding-left: 0.2em;position: relative;}#sk-container-id-3 div.sk-item {position: relative;z-index: 1;}#sk-container-id-3 div.sk-parallel {display: flex;align-items: stretch;justify-content: center;background-color: white;position: relative;}#sk-container-id-3 div.sk-item::before, #sk-container-id-3 div.sk-parallel-item::before {content: \"\";position: absolute;border-left: 1px solid gray;box-sizing: border-box;top: 0;bottom: 0;left: 50%;z-index: -1;}#sk-container-id-3 div.sk-parallel-item {display: flex;flex-direction: column;z-index: 1;position: relative;background-color: white;}#sk-container-id-3 div.sk-parallel-item:first-child::after {align-self: flex-end;width: 50%;}#sk-container-id-3 div.sk-parallel-item:last-child::after {align-self: flex-start;width: 50%;}#sk-container-id-3 div.sk-parallel-item:only-child::after {width: 0;}#sk-container-id-3 div.sk-dashed-wrapped {border: 1px dashed gray;margin: 0 0.4em 0.5em 0.4em;box-sizing: border-box;padding-bottom: 0.4em;background-color: white;}#sk-container-id-3 div.sk-label label {font-family: monospace;font-weight: bold;display: inline-block;line-height: 1.2em;}#sk-container-id-3 div.sk-label-container {text-align: center;}#sk-container-id-3 div.sk-container {/* jupyter's `normalize.less` sets `[hidden] { display: none; }` but bootstrap.min.css set `[hidden] { display: none !important; }` so we also need the `!important` here to be able to override the default hidden behavior on the sphinx rendered scikit-learn.org. See: https://github.com/scikit-learn/scikit-learn/issues/21755 */display: inline-block !important;position: relative;}#sk-container-id-3 div.sk-text-repr-fallback {display: none;}</style><div id=\"sk-container-id-3\" class=\"sk-top-container\"><div class=\"sk-text-repr-fallback\"><pre>KNeighborsClassifier()</pre><b>In a Jupyter environment, please rerun this cell to show the HTML representation or trust the notebook. <br />On GitHub, the HTML representation is unable to render, please try loading this page with nbviewer.org.</b></div><div class=\"sk-container\" hidden><div class=\"sk-item\"><div class=\"sk-estimator sk-toggleable\"><input class=\"sk-toggleable__control sk-hidden--visually\" id=\"sk-estimator-id-3\" type=\"checkbox\" checked><label for=\"sk-estimator-id-3\" class=\"sk-toggleable__label sk-toggleable__label-arrow\">KNeighborsClassifier</label><div class=\"sk-toggleable__content\"><pre>KNeighborsClassifier()</pre></div></div></div></div></div>"
      ],
      "text/plain": [
       "KNeighborsClassifier()"
      ]
     },
     "execution_count": 47,
     "metadata": {},
     "output_type": "execute_result"
    }
   ],
   "source": [
    "from sklearn.neighbors import KNeighborsClassifier\n",
    "classifier=KNeighborsClassifier(n_neighbors=5)\n",
    "classifier.fit(x_train,y_train)"
   ]
  },
  {
   "cell_type": "code",
   "execution_count": 48,
   "metadata": {},
   "outputs": [
    {
     "data": {
      "text/plain": [
       "array([['watermelon', 'chickpea', 'chickpea', 'chickpea', 'maize',\n",
       "        'kidneybeans', 'rice', 'chickpea', 'mothbeans', 'watermelon',\n",
       "        'watermelon', 'watermelon', 'mothbeans', 'banana', 'coconut',\n",
       "        'orange', 'lentil', 'muskmelon', 'pigeonpeas', 'chickpea',\n",
       "        'lentil', 'pigeonpeas', 'blackgram', 'pigeonpeas', 'maize',\n",
       "        'jute', 'mungbean', 'mothbeans', 'maize', 'apple', 'lentil',\n",
       "        'maize', 'banana', 'pomegranate', 'mothbeans', 'kidneybeans',\n",
       "        'coconut', 'banana', 'chickpea', 'pomegranate', 'mothbeans',\n",
       "        'mothbeans', 'banana', 'jute', 'apple', 'mungbean', 'mungbean',\n",
       "        'coconut', 'papaya', 'kidneybeans', 'maize', 'pigeonpeas',\n",
       "        'coconut', 'jute', 'rice', 'blackgram', 'apple', 'mothbeans',\n",
       "        'mango', 'rice', 'blackgram', 'chickpea', 'mango', 'rice',\n",
       "        'muskmelon', 'pomegranate', 'watermelon', 'pigeonpeas',\n",
       "        'coconut', 'jute', 'mango', 'lentil', 'coconut', 'muskmelon',\n",
       "        'muskmelon', 'coffee', 'coconut', 'papaya', 'rice', 'orange',\n",
       "        'cotton', 'papaya', 'rice', 'pigeonpeas', 'papaya', 'pigeonpeas',\n",
       "        'pigeonpeas', 'mungbean', 'lentil', 'apple', 'watermelon',\n",
       "        'cotton', 'grapes', 'watermelon', 'banana', 'blackgram',\n",
       "        'coffee', 'kidneybeans', 'orange', 'mothbeans', 'pigeonpeas',\n",
       "        'kidneybeans', 'mothbeans', 'muskmelon', 'muskmelon', 'papaya',\n",
       "        'orange', 'watermelon', 'apple', 'coconut', 'lentil', 'maize',\n",
       "        'blackgram', 'chickpea', 'pigeonpeas', 'watermelon', 'mungbean',\n",
       "        'mungbean', 'chickpea', 'mungbean', 'mungbean', 'coffee',\n",
       "        'coconut', 'kidneybeans', 'mungbean', 'pomegranate', 'mungbean',\n",
       "        'banana', 'chickpea', 'mungbean', 'blackgram', 'jute', 'coconut',\n",
       "        'coffee', 'pomegranate', 'jute', 'chickpea', 'chickpea',\n",
       "        'kidneybeans', 'rice', 'rice', 'papaya', 'grapes', 'muskmelon',\n",
       "        'mungbean', 'mungbean', 'papaya', 'grapes', 'mango', 'mungbean',\n",
       "        'pomegranate', 'watermelon', 'mothbeans', 'muskmelon',\n",
       "        'chickpea', 'pigeonpeas', 'cotton', 'orange', 'coconut',\n",
       "        'papaya', 'coffee', 'rice', 'mango', 'chickpea', 'coffee',\n",
       "        'rice', 'muskmelon', 'banana', 'muskmelon', 'cotton', 'rice',\n",
       "        'mango', 'watermelon', 'mungbean', 'jute', 'mango', 'coffee',\n",
       "        'blackgram', 'muskmelon', 'mango', 'watermelon', 'chickpea',\n",
       "        'chickpea', 'cotton', 'mango', 'lentil', 'jute', 'banana',\n",
       "        'cotton', 'apple', 'mothbeans', 'orange', 'rice', 'mothbeans',\n",
       "        'grapes', 'kidneybeans', 'watermelon', 'banana', 'muskmelon',\n",
       "        'jute', 'banana', 'coffee', 'watermelon', 'apple', 'coffee',\n",
       "        'blackgram', 'coffee', 'coconut', 'kidneybeans', 'apple',\n",
       "        'muskmelon', 'orange', 'jute', 'mungbean', 'jute', 'apple',\n",
       "        'coconut', 'coffee', 'coconut', 'watermelon', 'pigeonpeas',\n",
       "        'lentil', 'cotton', 'jute', 'coconut', 'banana', 'papaya',\n",
       "        'maize', 'jute', 'muskmelon', 'chickpea', 'orange', 'coffee',\n",
       "        'mothbeans', 'orange', 'cotton', 'muskmelon', 'coconut',\n",
       "        'kidneybeans', 'coconut', 'orange', 'orange', 'mango',\n",
       "        'watermelon', 'mungbean', 'grapes', 'mungbean', 'watermelon',\n",
       "        'mungbean', 'rice', 'maize', 'muskmelon', 'maize', 'watermelon',\n",
       "        'orange', 'mothbeans', 'coffee', 'orange', 'pomegranate',\n",
       "        'maize', 'mothbeans', 'maize', 'grapes', 'rice', 'cotton',\n",
       "        'lentil', 'chickpea', 'lentil', 'papaya', 'cotton', 'coconut',\n",
       "        'watermelon', 'mothbeans', 'apple', 'coconut', 'pomegranate',\n",
       "        'coconut', 'mango', 'muskmelon', 'chickpea', 'papaya',\n",
       "        'pigeonpeas', 'kidneybeans', 'mungbean', 'pomegranate', 'coffee',\n",
       "        'grapes', 'kidneybeans', 'maize', 'rice', 'orange',\n",
       "        'kidneybeans', 'papaya', 'pomegranate', 'papaya', 'blackgram',\n",
       "        'mango', 'grapes', 'chickpea', 'papaya', 'chickpea', 'jute',\n",
       "        'pigeonpeas', 'mothbeans', 'jute', 'coconut', 'apple', 'banana',\n",
       "        'apple', 'coconut', 'orange', 'jute', 'mango', 'pomegranate',\n",
       "        'mungbean', 'jute', 'orange', 'jute', 'pomegranate', 'chickpea',\n",
       "        'coffee', 'mango', 'papaya', 'mungbean', 'pigeonpeas', 'jute',\n",
       "        'coffee', 'lentil', 'mango', 'papaya', 'mango', 'kidneybeans',\n",
       "        'banana', 'muskmelon', 'watermelon', 'kidneybeans', 'coconut',\n",
       "        'blackgram', 'grapes', 'coffee', 'grapes', 'maize',\n",
       "        'kidneybeans', 'chickpea', 'lentil', 'mungbean', 'mungbean',\n",
       "        'apple', 'mothbeans', 'mango', 'mango', 'banana', 'rice',\n",
       "        'coffee', 'grapes', 'lentil', 'mango', 'rice', 'papaya',\n",
       "        'mungbean', 'grapes', 'coffee', 'mungbean', 'blackgram', 'jute',\n",
       "        'coconut', 'coffee', 'papaya', 'pomegranate', 'cotton', 'coffee',\n",
       "        'maize', 'cotton', 'kidneybeans', 'maize', 'kidneybeans',\n",
       "        'coffee', 'coconut', 'orange', 'watermelon', 'papaya', 'apple',\n",
       "        'blackgram', 'apple', 'kidneybeans', 'rice', 'orange', 'apple',\n",
       "        'pigeonpeas', 'mungbean', 'maize', 'pomegranate', 'watermelon',\n",
       "        'pomegranate', 'coffee', 'rice', 'watermelon', 'mango',\n",
       "        'blackgram', 'chickpea', 'orange', 'watermelon', 'papaya',\n",
       "        'maize', 'cotton', 'cotton', 'chickpea', 'chickpea',\n",
       "        'pomegranate', 'lentil', 'muskmelon', 'chickpea', 'orange',\n",
       "        'mango', 'coffee', 'jute', 'cotton', 'apple', 'mothbeans',\n",
       "        'muskmelon', 'cotton', 'jute', 'mungbean', 'apple', 'coconut',\n",
       "        'mothbeans', 'muskmelon', 'muskmelon', 'grapes', 'jute',\n",
       "        'pomegranate', 'pigeonpeas', 'muskmelon', 'rice', 'blackgram',\n",
       "        'papaya', 'jute', 'banana', 'maize', 'grapes']], dtype=object)"
      ]
     },
     "execution_count": 48,
     "metadata": {},
     "output_type": "execute_result"
    }
   ],
   "source": [
    "y_test.reshape(1,-1)"
   ]
  },
  {
   "cell_type": "code",
   "execution_count": 49,
   "metadata": {},
   "outputs": [
    {
     "name": "stdout",
     "output_type": "stream",
     "text": [
      "0.9681818181818181\n"
     ]
    }
   ],
   "source": [
    "from sklearn.metrics import accuracy_score\n",
    "y_pred=classifier.predict(x_test)\n",
    "print(accuracy_score(y_pred,y_test))"
   ]
  },
  {
   "cell_type": "code",
   "execution_count": 50,
   "metadata": {},
   "outputs": [
    {
     "data": {
      "text/plain": [
       "array(['rice'], dtype=object)"
      ]
     },
     "execution_count": 50,
     "metadata": {},
     "output_type": "execute_result"
    }
   ],
   "source": [
    "classifier.predict([[90,42,43,20.879744,82.002744,6.502985,202.9355366]])"
   ]
  },
  {
   "cell_type": "code",
   "execution_count": 51,
   "metadata": {},
   "outputs": [],
   "source": [
    "import pickle\n",
    "model=open('model1.pkl','wb')\n",
    "pickle.dump(classifier,model)\n",
    "model.close()\n"
   ]
  },
  {
   "cell_type": "code",
   "execution_count": null,
   "metadata": {},
   "outputs": [],
   "source": []
  },
  {
   "cell_type": "code",
   "execution_count": null,
   "metadata": {},
   "outputs": [],
   "source": []
  },
  {
   "cell_type": "code",
   "execution_count": null,
   "metadata": {},
   "outputs": [],
   "source": []
  }
 ],
 "metadata": {
  "kernelspec": {
   "display_name": "Python 3",
   "language": "python",
   "name": "python3"
  },
  "language_info": {
   "codemirror_mode": {
    "name": "ipython",
    "version": 3
   },
   "file_extension": ".py",
   "mimetype": "text/x-python",
   "name": "python",
   "nbconvert_exporter": "python",
   "pygments_lexer": "ipython3",
   "version": "3.9.0"
  }
 },
 "nbformat": 4,
 "nbformat_minor": 2
}
